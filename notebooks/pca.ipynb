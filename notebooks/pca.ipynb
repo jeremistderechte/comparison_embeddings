{
 "cells": [
  {
   "cell_type": "code",
   "execution_count": null,
   "metadata": {},
   "outputs": [
    {
     "data": {
      "application/vnd.plotly.v1+json": {
       "config": {
        "plotlyServerURL": "https://plot.ly"
       },
       "data": [
        {
         "hovertemplate": "Feature 1=%{x}<br>Feature 2=%{y}<br>Feature 3=%{z}<extra></extra>",
         "legendgroup": "",
         "marker": {
          "color": "#636efa",
          "opacity": 0.7,
          "size": 5,
          "symbol": "circle"
         },
         "mode": "markers",
         "name": "",
         "scene": "scene",
         "showlegend": false,
         "type": "scatter3d",
         "x": {
          "bdata": "wO7h8BcvrL90MfPWYaL4vzNrXs0Vpem/3M1wvVehAUAyypwR24Xov7vfSRxB4eW/Tmj6BGU++D+HZrRikVfsv5gVSefZkcU/4FARS+oGvL9U5JvVnBgCQDrBEqVbkuC/k8p/ZKM34z9cYsPEsVblvw7w0kFihOg/kHmfzaOY+D8zmLrLJQPwP7BwwQDxquC/XcMx/KHR7D8AJb4VYGTnP/Ce/3gS0+k/v7TZGaIX8T+a/OgrWv74v6g34pBsL+C/sL5TeR0mpj9reTHEiHvtP3ag8bND4vm/xoJOKE+B+j8AtjihR9aQv6qqshi+Yv8/LqhyQ23N0j+Bro6uXCnwv3yB3U7fXv6/whhDZYNz+j9Y/mdtsCbyP/y6Q8jB6/O/dDMFG8M31j8qbRBIVYToP1HXbdq+VglAipTym66y8b8c2Md+YG/ov9AWJHUQ1L2/ap8m1EN1579UrtPFWqD1v/E0VteqieU/fm+HDl4wA0CmmRXkQx7dvwBEa/2jKcS/o3LmZYp75T/KH+A1GNrhvyDzCL6nD6y/2N3L6fCWxj9u9AVYu5sBQLLmHqxdCuo/krNzmzWt479IVxQ0he4KQFwVJtocuQVA8rDFNVuV8L9ZB6K30cDwv9zNMHQh0wJAAFqD8RUY3j98vzYEwhHJP+6TCua5iOm/bvSJh+Ct4z/mF+43LTHdP4e6XbRBvvQ/qHLuq0XAwj9IVqM323Hnv/hK2FwoUPC/Vso3y0Lb6797amO6zATsP+C/5XtpPZE/INtCpGMB9z9Uqc6NtdPlv94QNyfTLd6/fNXqK+DR0b/iq4wzNUr8P2yGYlh44NO/wzY8Fza4/794KnIzgVfFP/AvQOEAKAPAOetmQhD0B0C9SDQsgb0BQECkr59bnMa/4LALFcEkAUAqU/5xAfvtv3yojA0HadY/9B7Mp1iX5b8w6p73a7cBQMXSfCR2LvC/S3TokVnX6j8xd4sYrDDxPwXtTJBLZ+u/PsD2rNzb4z8QX1dU+UHjP6qVJSdQFgRADa5gSftX7b+q5OpY/Mn+P5pdNo/GaPo/HwYCWFcH6j8=",
          "dtype": "f8"
         },
         "y": {
          "bdata": "yNaH57Gvs79n/hj+mivyv3Aa8xgZXr0/sB+k7aKFA8AIjwabEHbJPyAgxMD/O8E/xPVGDqbO9L9o5ROIezP/vzqrqRzFmea/sLWjDKJ3/z/ocTb3yE3kP9h4PG51xt6/VPpCL0Pv5r/jZrEe32Tpv0jIBwJ72+2/gDR4/jax57/Ul8sFcu3XvyISGnBXn/G/2Pl0ndas8r/9Cc7yuy7zv6/SzxcMnfE/k2h10RBq9L9ykm72VEkMQAQVcaLmgdy/wWKBdZgh7z+A1RUC41v7v4/AYZWnOgTAWQPzo6uAAcDn7EorE7Xyv2KMLrwl1uM/NmLsH2cE0b9sdwXkOYDMvxJoS8JwB/2/4ChVl8aIxz8uEx5RH1nuP6Hn0hw2y+G/wBeJhWtDs78u7VJwNFrgP+PAY26RqALA+IFFSIU+BkAu6bHzCaf5P+Y9AeCmQOu/+ryb5nMF9z+wVpQVtQLFv+DoMkq1uJM/28GoYnYM8L/AsUIm5OaVP2Y8Hn9NHOm/t7G187H88L++1JG3LPbXv0k0VhFHKfA/dB/CPxk/37+847JbxOD0v9RKIINPfta/LLPYgpyw1T9SE9ltrxUBwLqc11Lu8uw/jt4TvMUO5b8Cjihl6Qb1v4zpufCxPAHA18PdvNmi8D/+cKP7tI4CwHBTIIyjwcY/vAVInywo3z+2HSmgSM7Qv3YY2szMU/y/Dvd9VHoX6D9c/Jj2kMbfP+jt2kZTCfS/6Cyi1Y251j9DSXOrnnb5v9gMpYdn2+G/O/XGFiVu8r9gjeKygY7Cv7RSsEU3wvi/QJOYFLW5or8Q4sTSOiT0v4BiBlhbmui/ZhyNxBabAMCDCljrD2LmP/x6GtUflRLAcNFJsH6Kvr+OhIWI25Dzv6yUgO8CAOm/aEsSzqYO6T8kVCG4hhLMv/z5qHKlTOM/BEGybFC18j9Qhinyq8P4v8xd3HgSvtg/wptYwEbD6b9ub8iqPWnpv+Da2wlL4P8/Z0VdM+3+6T+/Ex6X5snyPyg3g4sZAfO/8MVKvwoQsD+S8mG+eAT5v8QC18OivfG/BNHa76UHA0A=",
          "dtype": "f8"
         },
         "z": {
          "bdata": "SQqxo0868D8c5vKi02/uPx5uqaRHHOG/HnS8NI5TAUBf8OVD5U73vwh2BcBPCvy/4sUoz0qr3r+4WwubTtoAwEbB8Ph5IfS/kMeYIju5+z9UH9NfN/nCP/CXBKeY5ADALikdW1d0AcDQSQtARKjdP8a//MjeOfC/E57bHIqcBsDqhuIKcSDUP2K11ZLbAwXAwvf3wcfg0L+ujpwXasvRv5Z0uUlrj/E/wNEPeMR49z8kBmJ6zIQFQI5o0W+wNQXAxpAmTEYY+z/mpzes3U7wP8SNoTeYPfi/uKXpnpd47T9gF7fgaVeqP/CO8xyvrtU/zY8Ume3/6T964bikKHravwAYEskKzLA/HkUxPwU54T9WBRk3K9Thvzr9A+o2v9S/gLFdVRoccD/4FGq6ByHkv8XfmFLOt/E/hCix5fcpA0CSBZ/+12H2P8nNgVoztOi/AYeScb39AUAI/l5Eeo72PxjhmPm/RfU/1C6zoBBFzT9YpRqpxNbov+7dLOIR/Oa/SBc4Tzclvr8WoEoRsAcFwOFz51VOI/w/eFAE9g1C+D/S/k4LpeDjv9qm/jMMYPM/YIPXDTLo2D9muoNaZsrVP4iimOSiAc6/n8NFydfW5b+ij6io3UAEwI03NIH1n/M/BoTwWnZF9j+JGYWB+6gDQLJ1JqChlPK/Fjs+hrAv9T/Sxdda8R8MwP120M+wpfU/d3b3j1Co+T8ORES/ag/mv37ImJSDt/m/7MESDIQs0T8MeTzfNrkBQB2PIXGhGu0/9miZEfhQ7j8cq2NojgH5v1QX4Jj6wwHAT1OW7zHvEMAuWzGOO5PiP/v25BLK3PM/klZicNw67b+hUBBRW+/5P+CNlEwV8eO/wP2eTkOe2b9sIcP6o8fiv7M8tWQrGf8/MLb+DQnryD+LinVaxY8DwDiyCbyc8Ow/UOUriJ1cAUAg0inyWO3GP5zXUGM21+i/6mf0Q0We+L9QzQRFIsQDwMjvvBbTSQhAmqTIK22L8z8+6YuGywL0PzZtOFYSy/u/HBQS3T/y9D8ciVwWDLLfP5z7yb1kEs2/t1w5puqQ8T8=",
          "dtype": "f8"
         }
        }
       ],
       "layout": {
        "legend": {
         "tracegroupgap": 0
        },
        "scene": {
         "domain": {
          "x": [
           0,
           1
          ],
          "y": [
           0,
           1
          ]
         },
         "xaxis": {
          "title": {
           "text": "Feature 1"
          }
         },
         "yaxis": {
          "title": {
           "text": "Feature 2"
          }
         },
         "zaxis": {
          "title": {
           "text": "Feature 3"
          }
         }
        },
        "template": {
         "data": {
          "bar": [
           {
            "error_x": {
             "color": "#2a3f5f"
            },
            "error_y": {
             "color": "#2a3f5f"
            },
            "marker": {
             "line": {
              "color": "#E5ECF6",
              "width": 0.5
             },
             "pattern": {
              "fillmode": "overlay",
              "size": 10,
              "solidity": 0.2
             }
            },
            "type": "bar"
           }
          ],
          "barpolar": [
           {
            "marker": {
             "line": {
              "color": "#E5ECF6",
              "width": 0.5
             },
             "pattern": {
              "fillmode": "overlay",
              "size": 10,
              "solidity": 0.2
             }
            },
            "type": "barpolar"
           }
          ],
          "carpet": [
           {
            "aaxis": {
             "endlinecolor": "#2a3f5f",
             "gridcolor": "white",
             "linecolor": "white",
             "minorgridcolor": "white",
             "startlinecolor": "#2a3f5f"
            },
            "baxis": {
             "endlinecolor": "#2a3f5f",
             "gridcolor": "white",
             "linecolor": "white",
             "minorgridcolor": "white",
             "startlinecolor": "#2a3f5f"
            },
            "type": "carpet"
           }
          ],
          "choropleth": [
           {
            "colorbar": {
             "outlinewidth": 0,
             "ticks": ""
            },
            "type": "choropleth"
           }
          ],
          "contour": [
           {
            "colorbar": {
             "outlinewidth": 0,
             "ticks": ""
            },
            "colorscale": [
             [
              0,
              "#0d0887"
             ],
             [
              0.1111111111111111,
              "#46039f"
             ],
             [
              0.2222222222222222,
              "#7201a8"
             ],
             [
              0.3333333333333333,
              "#9c179e"
             ],
             [
              0.4444444444444444,
              "#bd3786"
             ],
             [
              0.5555555555555556,
              "#d8576b"
             ],
             [
              0.6666666666666666,
              "#ed7953"
             ],
             [
              0.7777777777777778,
              "#fb9f3a"
             ],
             [
              0.8888888888888888,
              "#fdca26"
             ],
             [
              1,
              "#f0f921"
             ]
            ],
            "type": "contour"
           }
          ],
          "contourcarpet": [
           {
            "colorbar": {
             "outlinewidth": 0,
             "ticks": ""
            },
            "type": "contourcarpet"
           }
          ],
          "heatmap": [
           {
            "colorbar": {
             "outlinewidth": 0,
             "ticks": ""
            },
            "colorscale": [
             [
              0,
              "#0d0887"
             ],
             [
              0.1111111111111111,
              "#46039f"
             ],
             [
              0.2222222222222222,
              "#7201a8"
             ],
             [
              0.3333333333333333,
              "#9c179e"
             ],
             [
              0.4444444444444444,
              "#bd3786"
             ],
             [
              0.5555555555555556,
              "#d8576b"
             ],
             [
              0.6666666666666666,
              "#ed7953"
             ],
             [
              0.7777777777777778,
              "#fb9f3a"
             ],
             [
              0.8888888888888888,
              "#fdca26"
             ],
             [
              1,
              "#f0f921"
             ]
            ],
            "type": "heatmap"
           }
          ],
          "histogram": [
           {
            "marker": {
             "pattern": {
              "fillmode": "overlay",
              "size": 10,
              "solidity": 0.2
             }
            },
            "type": "histogram"
           }
          ],
          "histogram2d": [
           {
            "colorbar": {
             "outlinewidth": 0,
             "ticks": ""
            },
            "colorscale": [
             [
              0,
              "#0d0887"
             ],
             [
              0.1111111111111111,
              "#46039f"
             ],
             [
              0.2222222222222222,
              "#7201a8"
             ],
             [
              0.3333333333333333,
              "#9c179e"
             ],
             [
              0.4444444444444444,
              "#bd3786"
             ],
             [
              0.5555555555555556,
              "#d8576b"
             ],
             [
              0.6666666666666666,
              "#ed7953"
             ],
             [
              0.7777777777777778,
              "#fb9f3a"
             ],
             [
              0.8888888888888888,
              "#fdca26"
             ],
             [
              1,
              "#f0f921"
             ]
            ],
            "type": "histogram2d"
           }
          ],
          "histogram2dcontour": [
           {
            "colorbar": {
             "outlinewidth": 0,
             "ticks": ""
            },
            "colorscale": [
             [
              0,
              "#0d0887"
             ],
             [
              0.1111111111111111,
              "#46039f"
             ],
             [
              0.2222222222222222,
              "#7201a8"
             ],
             [
              0.3333333333333333,
              "#9c179e"
             ],
             [
              0.4444444444444444,
              "#bd3786"
             ],
             [
              0.5555555555555556,
              "#d8576b"
             ],
             [
              0.6666666666666666,
              "#ed7953"
             ],
             [
              0.7777777777777778,
              "#fb9f3a"
             ],
             [
              0.8888888888888888,
              "#fdca26"
             ],
             [
              1,
              "#f0f921"
             ]
            ],
            "type": "histogram2dcontour"
           }
          ],
          "mesh3d": [
           {
            "colorbar": {
             "outlinewidth": 0,
             "ticks": ""
            },
            "type": "mesh3d"
           }
          ],
          "parcoords": [
           {
            "line": {
             "colorbar": {
              "outlinewidth": 0,
              "ticks": ""
             }
            },
            "type": "parcoords"
           }
          ],
          "pie": [
           {
            "automargin": true,
            "type": "pie"
           }
          ],
          "scatter": [
           {
            "fillpattern": {
             "fillmode": "overlay",
             "size": 10,
             "solidity": 0.2
            },
            "type": "scatter"
           }
          ],
          "scatter3d": [
           {
            "line": {
             "colorbar": {
              "outlinewidth": 0,
              "ticks": ""
             }
            },
            "marker": {
             "colorbar": {
              "outlinewidth": 0,
              "ticks": ""
             }
            },
            "type": "scatter3d"
           }
          ],
          "scattercarpet": [
           {
            "marker": {
             "colorbar": {
              "outlinewidth": 0,
              "ticks": ""
             }
            },
            "type": "scattercarpet"
           }
          ],
          "scattergeo": [
           {
            "marker": {
             "colorbar": {
              "outlinewidth": 0,
              "ticks": ""
             }
            },
            "type": "scattergeo"
           }
          ],
          "scattergl": [
           {
            "marker": {
             "colorbar": {
              "outlinewidth": 0,
              "ticks": ""
             }
            },
            "type": "scattergl"
           }
          ],
          "scattermap": [
           {
            "marker": {
             "colorbar": {
              "outlinewidth": 0,
              "ticks": ""
             }
            },
            "type": "scattermap"
           }
          ],
          "scattermapbox": [
           {
            "marker": {
             "colorbar": {
              "outlinewidth": 0,
              "ticks": ""
             }
            },
            "type": "scattermapbox"
           }
          ],
          "scatterpolar": [
           {
            "marker": {
             "colorbar": {
              "outlinewidth": 0,
              "ticks": ""
             }
            },
            "type": "scatterpolar"
           }
          ],
          "scatterpolargl": [
           {
            "marker": {
             "colorbar": {
              "outlinewidth": 0,
              "ticks": ""
             }
            },
            "type": "scatterpolargl"
           }
          ],
          "scatterternary": [
           {
            "marker": {
             "colorbar": {
              "outlinewidth": 0,
              "ticks": ""
             }
            },
            "type": "scatterternary"
           }
          ],
          "surface": [
           {
            "colorbar": {
             "outlinewidth": 0,
             "ticks": ""
            },
            "colorscale": [
             [
              0,
              "#0d0887"
             ],
             [
              0.1111111111111111,
              "#46039f"
             ],
             [
              0.2222222222222222,
              "#7201a8"
             ],
             [
              0.3333333333333333,
              "#9c179e"
             ],
             [
              0.4444444444444444,
              "#bd3786"
             ],
             [
              0.5555555555555556,
              "#d8576b"
             ],
             [
              0.6666666666666666,
              "#ed7953"
             ],
             [
              0.7777777777777778,
              "#fb9f3a"
             ],
             [
              0.8888888888888888,
              "#fdca26"
             ],
             [
              1,
              "#f0f921"
             ]
            ],
            "type": "surface"
           }
          ],
          "table": [
           {
            "cells": {
             "fill": {
              "color": "#EBF0F8"
             },
             "line": {
              "color": "white"
             }
            },
            "header": {
             "fill": {
              "color": "#C8D4E3"
             },
             "line": {
              "color": "white"
             }
            },
            "type": "table"
           }
          ]
         },
         "layout": {
          "annotationdefaults": {
           "arrowcolor": "#2a3f5f",
           "arrowhead": 0,
           "arrowwidth": 1
          },
          "autotypenumbers": "strict",
          "coloraxis": {
           "colorbar": {
            "outlinewidth": 0,
            "ticks": ""
           }
          },
          "colorscale": {
           "diverging": [
            [
             0,
             "#8e0152"
            ],
            [
             0.1,
             "#c51b7d"
            ],
            [
             0.2,
             "#de77ae"
            ],
            [
             0.3,
             "#f1b6da"
            ],
            [
             0.4,
             "#fde0ef"
            ],
            [
             0.5,
             "#f7f7f7"
            ],
            [
             0.6,
             "#e6f5d0"
            ],
            [
             0.7,
             "#b8e186"
            ],
            [
             0.8,
             "#7fbc41"
            ],
            [
             0.9,
             "#4d9221"
            ],
            [
             1,
             "#276419"
            ]
           ],
           "sequential": [
            [
             0,
             "#0d0887"
            ],
            [
             0.1111111111111111,
             "#46039f"
            ],
            [
             0.2222222222222222,
             "#7201a8"
            ],
            [
             0.3333333333333333,
             "#9c179e"
            ],
            [
             0.4444444444444444,
             "#bd3786"
            ],
            [
             0.5555555555555556,
             "#d8576b"
            ],
            [
             0.6666666666666666,
             "#ed7953"
            ],
            [
             0.7777777777777778,
             "#fb9f3a"
            ],
            [
             0.8888888888888888,
             "#fdca26"
            ],
            [
             1,
             "#f0f921"
            ]
           ],
           "sequentialminus": [
            [
             0,
             "#0d0887"
            ],
            [
             0.1111111111111111,
             "#46039f"
            ],
            [
             0.2222222222222222,
             "#7201a8"
            ],
            [
             0.3333333333333333,
             "#9c179e"
            ],
            [
             0.4444444444444444,
             "#bd3786"
            ],
            [
             0.5555555555555556,
             "#d8576b"
            ],
            [
             0.6666666666666666,
             "#ed7953"
            ],
            [
             0.7777777777777778,
             "#fb9f3a"
            ],
            [
             0.8888888888888888,
             "#fdca26"
            ],
            [
             1,
             "#f0f921"
            ]
           ]
          },
          "colorway": [
           "#636efa",
           "#EF553B",
           "#00cc96",
           "#ab63fa",
           "#FFA15A",
           "#19d3f3",
           "#FF6692",
           "#B6E880",
           "#FF97FF",
           "#FECB52"
          ],
          "font": {
           "color": "#2a3f5f"
          },
          "geo": {
           "bgcolor": "white",
           "lakecolor": "white",
           "landcolor": "#E5ECF6",
           "showlakes": true,
           "showland": true,
           "subunitcolor": "white"
          },
          "hoverlabel": {
           "align": "left"
          },
          "hovermode": "closest",
          "mapbox": {
           "style": "light"
          },
          "paper_bgcolor": "white",
          "plot_bgcolor": "#E5ECF6",
          "polar": {
           "angularaxis": {
            "gridcolor": "white",
            "linecolor": "white",
            "ticks": ""
           },
           "bgcolor": "#E5ECF6",
           "radialaxis": {
            "gridcolor": "white",
            "linecolor": "white",
            "ticks": ""
           }
          },
          "scene": {
           "xaxis": {
            "backgroundcolor": "#E5ECF6",
            "gridcolor": "white",
            "gridwidth": 2,
            "linecolor": "white",
            "showbackground": true,
            "ticks": "",
            "zerolinecolor": "white"
           },
           "yaxis": {
            "backgroundcolor": "#E5ECF6",
            "gridcolor": "white",
            "gridwidth": 2,
            "linecolor": "white",
            "showbackground": true,
            "ticks": "",
            "zerolinecolor": "white"
           },
           "zaxis": {
            "backgroundcolor": "#E5ECF6",
            "gridcolor": "white",
            "gridwidth": 2,
            "linecolor": "white",
            "showbackground": true,
            "ticks": "",
            "zerolinecolor": "white"
           }
          },
          "shapedefaults": {
           "line": {
            "color": "#2a3f5f"
           }
          },
          "ternary": {
           "aaxis": {
            "gridcolor": "white",
            "linecolor": "white",
            "ticks": ""
           },
           "baxis": {
            "gridcolor": "white",
            "linecolor": "white",
            "ticks": ""
           },
           "bgcolor": "#E5ECF6",
           "caxis": {
            "gridcolor": "white",
            "linecolor": "white",
            "ticks": ""
           }
          },
          "title": {
           "x": 0.05
          },
          "xaxis": {
           "automargin": true,
           "gridcolor": "white",
           "linecolor": "white",
           "ticks": "",
           "title": {
            "standoff": 15
           },
           "zerolinecolor": "white",
           "zerolinewidth": 2
          },
          "yaxis": {
           "automargin": true,
           "gridcolor": "white",
           "linecolor": "white",
           "ticks": "",
           "title": {
            "standoff": 15
           },
           "zerolinecolor": "white",
           "zerolinewidth": 2
          }
         }
        },
        "title": {
         "text": "Original Data (3D)"
        }
       }
      }
     },
     "metadata": {},
     "output_type": "display_data"
    },
    {
     "data": {
      "application/vnd.plotly.v1+json": {
       "config": {
        "plotlyServerURL": "https://plot.ly"
       },
       "data": [
        {
         "hovertemplate": "Principal Component 1=%{x}<br>Principal Component 2=%{y}<extra></extra>",
         "legendgroup": "",
         "marker": {
          "color": "#636efa",
          "opacity": 0.7,
          "size": 5,
          "symbol": "circle"
         },
         "mode": "markers",
         "name": "",
         "orientation": "v",
         "showlegend": false,
         "type": "scatter",
         "x": {
          "bdata": "vboqk4uY7z+oQGjsmLHVPwDhIX9xKNa/BQPhvBor8T98REQ/zOzxvz6kBTftffa/UGVGGZY46b/rOS/a3I8FwOniJTG6wPS/lOF10Gh/BED6DJrZhcnmPxIqQAPJ7v+/0SBWExq1AMAVDZUCKTXAP4Vd7TEYTvK/MnwkJq7UBMDw9FSwlIvTPyaWITKf5wXA1YHLviSI4r9LJVPAD8njvyMStJ6/o/o/YjD57xQ37T9vMpuv7h8QQPdtKaFwpQPAHkce1KaiAEDKDdvTHpzTP6GObndb7APANoeEED3LqT+YoQwZ32TXvwZJ7w2ASus/mhXxV3Hg5z/iEkyzGDbav/N0vdlACum/R3Q7qKXN6T9nH5OXXr7DPzkJKXDHBeC/J/IF0pRyvz+RF6dNkIjBv11HK3t1RtA/+102ayyiC0AAmJYGd20AQEdWH41/iO6/f5E3+9vZBUC2Xc/ZTEzzPz/zLJ3ryPU/4t8RY4zsoj81BTg9FoTivzP8UkKwHey/HNhK4YS22r+RlzWHFUEDwDuMurXaLQFA4Y709vse9D+aa/L7e8Trv6iuYSDehvE/3RyMmm7L4j+i+HKsCW3Uv/+XH0fo9uA/y7TA8o4z678epfAGxk8GwDw+ZPfintg/8k2G+Tz6/T9NaLyO7+/zP5OrMUAO3+u/NL3/WbwY+T9rqX7ZMIwIwIkzkA3NMeM/P9a9dpp9/j/+kodOmVPTvyRV45NRDv+/kMgySUAV3j/8ijZ5w6b2P7xsOwfEr+U/IA6s6asr4T+ZMx1BLt/1vz+AWwiBpgTAjqBEEjo0DcBWFuLrWcrHP6iUoohaO+s/deHIl+Bl/L/g+zqRSF3+PwtkxZ+k3QXABqKLeUvUsb/iIyTqbozpv3T425BPnPc/rQUyt1oH6j8hjb8xY5gBwPuqhBQfuPM/4iB7supUBED0WxcT71rRvzKPaeY/vdy/E6On+ESz+L9PexldqsUCwJYmSPT1ZA1AHMdROSgO+j+Y4ViolB79P+UsCV4Tdvy/u0epeVgJ9D9Y4vVAy7KTv+xv3gwu6N2/sB7svG8LAkA=",
          "dtype": "f8"
         },
         "xaxis": "x",
         "y": {
          "bdata": "8W1vTF0t0r+hRvQ3na3wv0HyDf4b3/S/fY+0MDgZCEBzC+s2JtP3vxRhYmvcFfe/E7WldObw9T8u/iXtfSvlvyK1Sg1gOsu/u/3umwQf87/b8Ntv+dvyP2LcxYpEFvG/YMIlKDALi79UF+d1Jdvhvx866n9a/9w/qnyRphia5T8EVOiC1SDkP9Q6Acneo+u/DtG8ZgpX6j9m9FWc2SDmP3D5CR5hO7y/lecDTEqC9T+Nr/iF9igIwKDwi6Vt0vK/rg/vnxPC4r+iHogExY71P4ZKs8P9gey/c/5YYc6CAUBkZQZQvS+6PxAPZafI5+4/RCD83iVQsT9RNrI3CLb0vxAJYzEG6vK/ovnzRkyG7j+gwWFqMFexv2dO3J/HCPW/gmHBgufowL+aB6vY3inHv5KR0buGpgxAxyN2tDaKAsAN9rlorjH6vz4IXlDBwNK/Pdk/4Xfv9b9ztzK9Ylf0v7G4Utm3StY/feI8jMTjAEBSyb5BcSXwv/wodyYEcNa/eJ5QJ1pR4z+6wQFLKAX0v2BfMXYhn+W/+vq0Cm62yj+fP27U/OT+P1Cd5qUyEuQ/AIWSX55O8b/QzrZwoRUMQNYTilvDxfU/o40Vqnp48r+ni3GXAwrzv5ICnxIUlgZAfBCHoI7207/u8vmqk8T0P7+SbzmkM/e/tFRnAO+wsT8KP0Z6qHzjv+VjPN1/Jfw/80ExYAoV2r/bg620RGP3v3s53tCuXvC/ZpR8n8RH9b909pmybZr3P4De3uTsI32/AHLylTAD+D/Qdzfm3030v2JtqE0s3+C/hgLyRluu97/vY9d1TT/8P3jA+OHw176/5i7R2N/19L9EIlqEQRnXv1MYmdfHWta/cx90+i2LAEC75EV5mJT+P45F/K502MA/6r0EwbE28D/H/WjW29j5vxY9dSJMs9K/WQIxPl9E879/is9MY7EBQL6TPrsxlvq/0VYNkZCk1j+d69vpcO7XP1Q6FEarlPm/VHP4HMbJur+8ZgUdlrPSv7N4+VBz2P4/08vaNR9/8L+srUqQnEAAQMOZaTwQC/c/vQrbrldb578=",
          "dtype": "f8"
         },
         "yaxis": "y"
        }
       ],
       "layout": {
        "legend": {
         "tracegroupgap": 0
        },
        "template": {
         "data": {
          "bar": [
           {
            "error_x": {
             "color": "#2a3f5f"
            },
            "error_y": {
             "color": "#2a3f5f"
            },
            "marker": {
             "line": {
              "color": "#E5ECF6",
              "width": 0.5
             },
             "pattern": {
              "fillmode": "overlay",
              "size": 10,
              "solidity": 0.2
             }
            },
            "type": "bar"
           }
          ],
          "barpolar": [
           {
            "marker": {
             "line": {
              "color": "#E5ECF6",
              "width": 0.5
             },
             "pattern": {
              "fillmode": "overlay",
              "size": 10,
              "solidity": 0.2
             }
            },
            "type": "barpolar"
           }
          ],
          "carpet": [
           {
            "aaxis": {
             "endlinecolor": "#2a3f5f",
             "gridcolor": "white",
             "linecolor": "white",
             "minorgridcolor": "white",
             "startlinecolor": "#2a3f5f"
            },
            "baxis": {
             "endlinecolor": "#2a3f5f",
             "gridcolor": "white",
             "linecolor": "white",
             "minorgridcolor": "white",
             "startlinecolor": "#2a3f5f"
            },
            "type": "carpet"
           }
          ],
          "choropleth": [
           {
            "colorbar": {
             "outlinewidth": 0,
             "ticks": ""
            },
            "type": "choropleth"
           }
          ],
          "contour": [
           {
            "colorbar": {
             "outlinewidth": 0,
             "ticks": ""
            },
            "colorscale": [
             [
              0,
              "#0d0887"
             ],
             [
              0.1111111111111111,
              "#46039f"
             ],
             [
              0.2222222222222222,
              "#7201a8"
             ],
             [
              0.3333333333333333,
              "#9c179e"
             ],
             [
              0.4444444444444444,
              "#bd3786"
             ],
             [
              0.5555555555555556,
              "#d8576b"
             ],
             [
              0.6666666666666666,
              "#ed7953"
             ],
             [
              0.7777777777777778,
              "#fb9f3a"
             ],
             [
              0.8888888888888888,
              "#fdca26"
             ],
             [
              1,
              "#f0f921"
             ]
            ],
            "type": "contour"
           }
          ],
          "contourcarpet": [
           {
            "colorbar": {
             "outlinewidth": 0,
             "ticks": ""
            },
            "type": "contourcarpet"
           }
          ],
          "heatmap": [
           {
            "colorbar": {
             "outlinewidth": 0,
             "ticks": ""
            },
            "colorscale": [
             [
              0,
              "#0d0887"
             ],
             [
              0.1111111111111111,
              "#46039f"
             ],
             [
              0.2222222222222222,
              "#7201a8"
             ],
             [
              0.3333333333333333,
              "#9c179e"
             ],
             [
              0.4444444444444444,
              "#bd3786"
             ],
             [
              0.5555555555555556,
              "#d8576b"
             ],
             [
              0.6666666666666666,
              "#ed7953"
             ],
             [
              0.7777777777777778,
              "#fb9f3a"
             ],
             [
              0.8888888888888888,
              "#fdca26"
             ],
             [
              1,
              "#f0f921"
             ]
            ],
            "type": "heatmap"
           }
          ],
          "histogram": [
           {
            "marker": {
             "pattern": {
              "fillmode": "overlay",
              "size": 10,
              "solidity": 0.2
             }
            },
            "type": "histogram"
           }
          ],
          "histogram2d": [
           {
            "colorbar": {
             "outlinewidth": 0,
             "ticks": ""
            },
            "colorscale": [
             [
              0,
              "#0d0887"
             ],
             [
              0.1111111111111111,
              "#46039f"
             ],
             [
              0.2222222222222222,
              "#7201a8"
             ],
             [
              0.3333333333333333,
              "#9c179e"
             ],
             [
              0.4444444444444444,
              "#bd3786"
             ],
             [
              0.5555555555555556,
              "#d8576b"
             ],
             [
              0.6666666666666666,
              "#ed7953"
             ],
             [
              0.7777777777777778,
              "#fb9f3a"
             ],
             [
              0.8888888888888888,
              "#fdca26"
             ],
             [
              1,
              "#f0f921"
             ]
            ],
            "type": "histogram2d"
           }
          ],
          "histogram2dcontour": [
           {
            "colorbar": {
             "outlinewidth": 0,
             "ticks": ""
            },
            "colorscale": [
             [
              0,
              "#0d0887"
             ],
             [
              0.1111111111111111,
              "#46039f"
             ],
             [
              0.2222222222222222,
              "#7201a8"
             ],
             [
              0.3333333333333333,
              "#9c179e"
             ],
             [
              0.4444444444444444,
              "#bd3786"
             ],
             [
              0.5555555555555556,
              "#d8576b"
             ],
             [
              0.6666666666666666,
              "#ed7953"
             ],
             [
              0.7777777777777778,
              "#fb9f3a"
             ],
             [
              0.8888888888888888,
              "#fdca26"
             ],
             [
              1,
              "#f0f921"
             ]
            ],
            "type": "histogram2dcontour"
           }
          ],
          "mesh3d": [
           {
            "colorbar": {
             "outlinewidth": 0,
             "ticks": ""
            },
            "type": "mesh3d"
           }
          ],
          "parcoords": [
           {
            "line": {
             "colorbar": {
              "outlinewidth": 0,
              "ticks": ""
             }
            },
            "type": "parcoords"
           }
          ],
          "pie": [
           {
            "automargin": true,
            "type": "pie"
           }
          ],
          "scatter": [
           {
            "fillpattern": {
             "fillmode": "overlay",
             "size": 10,
             "solidity": 0.2
            },
            "type": "scatter"
           }
          ],
          "scatter3d": [
           {
            "line": {
             "colorbar": {
              "outlinewidth": 0,
              "ticks": ""
             }
            },
            "marker": {
             "colorbar": {
              "outlinewidth": 0,
              "ticks": ""
             }
            },
            "type": "scatter3d"
           }
          ],
          "scattercarpet": [
           {
            "marker": {
             "colorbar": {
              "outlinewidth": 0,
              "ticks": ""
             }
            },
            "type": "scattercarpet"
           }
          ],
          "scattergeo": [
           {
            "marker": {
             "colorbar": {
              "outlinewidth": 0,
              "ticks": ""
             }
            },
            "type": "scattergeo"
           }
          ],
          "scattergl": [
           {
            "marker": {
             "colorbar": {
              "outlinewidth": 0,
              "ticks": ""
             }
            },
            "type": "scattergl"
           }
          ],
          "scattermap": [
           {
            "marker": {
             "colorbar": {
              "outlinewidth": 0,
              "ticks": ""
             }
            },
            "type": "scattermap"
           }
          ],
          "scattermapbox": [
           {
            "marker": {
             "colorbar": {
              "outlinewidth": 0,
              "ticks": ""
             }
            },
            "type": "scattermapbox"
           }
          ],
          "scatterpolar": [
           {
            "marker": {
             "colorbar": {
              "outlinewidth": 0,
              "ticks": ""
             }
            },
            "type": "scatterpolar"
           }
          ],
          "scatterpolargl": [
           {
            "marker": {
             "colorbar": {
              "outlinewidth": 0,
              "ticks": ""
             }
            },
            "type": "scatterpolargl"
           }
          ],
          "scatterternary": [
           {
            "marker": {
             "colorbar": {
              "outlinewidth": 0,
              "ticks": ""
             }
            },
            "type": "scatterternary"
           }
          ],
          "surface": [
           {
            "colorbar": {
             "outlinewidth": 0,
             "ticks": ""
            },
            "colorscale": [
             [
              0,
              "#0d0887"
             ],
             [
              0.1111111111111111,
              "#46039f"
             ],
             [
              0.2222222222222222,
              "#7201a8"
             ],
             [
              0.3333333333333333,
              "#9c179e"
             ],
             [
              0.4444444444444444,
              "#bd3786"
             ],
             [
              0.5555555555555556,
              "#d8576b"
             ],
             [
              0.6666666666666666,
              "#ed7953"
             ],
             [
              0.7777777777777778,
              "#fb9f3a"
             ],
             [
              0.8888888888888888,
              "#fdca26"
             ],
             [
              1,
              "#f0f921"
             ]
            ],
            "type": "surface"
           }
          ],
          "table": [
           {
            "cells": {
             "fill": {
              "color": "#EBF0F8"
             },
             "line": {
              "color": "white"
             }
            },
            "header": {
             "fill": {
              "color": "#C8D4E3"
             },
             "line": {
              "color": "white"
             }
            },
            "type": "table"
           }
          ]
         },
         "layout": {
          "annotationdefaults": {
           "arrowcolor": "#2a3f5f",
           "arrowhead": 0,
           "arrowwidth": 1
          },
          "autotypenumbers": "strict",
          "coloraxis": {
           "colorbar": {
            "outlinewidth": 0,
            "ticks": ""
           }
          },
          "colorscale": {
           "diverging": [
            [
             0,
             "#8e0152"
            ],
            [
             0.1,
             "#c51b7d"
            ],
            [
             0.2,
             "#de77ae"
            ],
            [
             0.3,
             "#f1b6da"
            ],
            [
             0.4,
             "#fde0ef"
            ],
            [
             0.5,
             "#f7f7f7"
            ],
            [
             0.6,
             "#e6f5d0"
            ],
            [
             0.7,
             "#b8e186"
            ],
            [
             0.8,
             "#7fbc41"
            ],
            [
             0.9,
             "#4d9221"
            ],
            [
             1,
             "#276419"
            ]
           ],
           "sequential": [
            [
             0,
             "#0d0887"
            ],
            [
             0.1111111111111111,
             "#46039f"
            ],
            [
             0.2222222222222222,
             "#7201a8"
            ],
            [
             0.3333333333333333,
             "#9c179e"
            ],
            [
             0.4444444444444444,
             "#bd3786"
            ],
            [
             0.5555555555555556,
             "#d8576b"
            ],
            [
             0.6666666666666666,
             "#ed7953"
            ],
            [
             0.7777777777777778,
             "#fb9f3a"
            ],
            [
             0.8888888888888888,
             "#fdca26"
            ],
            [
             1,
             "#f0f921"
            ]
           ],
           "sequentialminus": [
            [
             0,
             "#0d0887"
            ],
            [
             0.1111111111111111,
             "#46039f"
            ],
            [
             0.2222222222222222,
             "#7201a8"
            ],
            [
             0.3333333333333333,
             "#9c179e"
            ],
            [
             0.4444444444444444,
             "#bd3786"
            ],
            [
             0.5555555555555556,
             "#d8576b"
            ],
            [
             0.6666666666666666,
             "#ed7953"
            ],
            [
             0.7777777777777778,
             "#fb9f3a"
            ],
            [
             0.8888888888888888,
             "#fdca26"
            ],
            [
             1,
             "#f0f921"
            ]
           ]
          },
          "colorway": [
           "#636efa",
           "#EF553B",
           "#00cc96",
           "#ab63fa",
           "#FFA15A",
           "#19d3f3",
           "#FF6692",
           "#B6E880",
           "#FF97FF",
           "#FECB52"
          ],
          "font": {
           "color": "#2a3f5f"
          },
          "geo": {
           "bgcolor": "white",
           "lakecolor": "white",
           "landcolor": "#E5ECF6",
           "showlakes": true,
           "showland": true,
           "subunitcolor": "white"
          },
          "hoverlabel": {
           "align": "left"
          },
          "hovermode": "closest",
          "mapbox": {
           "style": "light"
          },
          "paper_bgcolor": "white",
          "plot_bgcolor": "#E5ECF6",
          "polar": {
           "angularaxis": {
            "gridcolor": "white",
            "linecolor": "white",
            "ticks": ""
           },
           "bgcolor": "#E5ECF6",
           "radialaxis": {
            "gridcolor": "white",
            "linecolor": "white",
            "ticks": ""
           }
          },
          "scene": {
           "xaxis": {
            "backgroundcolor": "#E5ECF6",
            "gridcolor": "white",
            "gridwidth": 2,
            "linecolor": "white",
            "showbackground": true,
            "ticks": "",
            "zerolinecolor": "white"
           },
           "yaxis": {
            "backgroundcolor": "#E5ECF6",
            "gridcolor": "white",
            "gridwidth": 2,
            "linecolor": "white",
            "showbackground": true,
            "ticks": "",
            "zerolinecolor": "white"
           },
           "zaxis": {
            "backgroundcolor": "#E5ECF6",
            "gridcolor": "white",
            "gridwidth": 2,
            "linecolor": "white",
            "showbackground": true,
            "ticks": "",
            "zerolinecolor": "white"
           }
          },
          "shapedefaults": {
           "line": {
            "color": "#2a3f5f"
           }
          },
          "ternary": {
           "aaxis": {
            "gridcolor": "white",
            "linecolor": "white",
            "ticks": ""
           },
           "baxis": {
            "gridcolor": "white",
            "linecolor": "white",
            "ticks": ""
           },
           "bgcolor": "#E5ECF6",
           "caxis": {
            "gridcolor": "white",
            "linecolor": "white",
            "ticks": ""
           }
          },
          "title": {
           "x": 0.05
          },
          "xaxis": {
           "automargin": true,
           "gridcolor": "white",
           "linecolor": "white",
           "ticks": "",
           "title": {
            "standoff": 15
           },
           "zerolinecolor": "white",
           "zerolinewidth": 2
          },
          "yaxis": {
           "automargin": true,
           "gridcolor": "white",
           "linecolor": "white",
           "ticks": "",
           "title": {
            "standoff": 15
           },
           "zerolinecolor": "white",
           "zerolinewidth": 2
          }
         }
        },
        "title": {
         "text": "PCA Transformed Data (2D)"
        },
        "xaxis": {
         "anchor": "y",
         "domain": [
          0,
          1
         ],
         "title": {
          "text": "Principal Component 1"
         }
        },
        "yaxis": {
         "anchor": "x",
         "domain": [
          0,
          1
         ],
         "title": {
          "text": "Principal Component 2"
         }
        }
       }
      }
     },
     "metadata": {},
     "output_type": "display_data"
    }
   ],
   "source": [
    "import numpy as np\n",
    "import plotly.express as px\n",
    "from sklearn.decomposition import PCA\n",
    "from sklearn.datasets import make_classification\n",
    "\n",
    "np.random.seed(42)\n",
    "X, _ = make_classification(n_samples=100, n_features=3, n_informative=3, n_redundant=0, random_state=42)\n",
    "\n",
    "pca = PCA(n_components=2)\n",
    "X_pca = pca.fit_transform(X)\n",
    "\n",
    "fig_original = px.scatter_3d(\n",
    "    x=X[:, 0], y=X[:, 1], z=X[:, 2],\n",
    "    title=\"Original Data (3D)\",\n",
    "    labels={'x': 'Feature 1', 'y': 'Feature 2', 'z': 'Feature 3'},\n",
    "    opacity=0.7\n",
    ")\n",
    "fig_original.update_traces(marker=dict(size=5))\n",
    "fig_original.show()\n",
    "\n",
    "fig_pca = px.scatter(\n",
    "    x=X_pca[:, 0], y=X_pca[:, 1],\n",
    "    title=\"PCA Transformed Data (2D)\",\n",
    "    labels={'x': 'Principal Component 1', 'y': 'Principal Component 2'},\n",
    "    opacity=0.7\n",
    ")\n",
    "fig_pca.update_traces(marker=dict(size=5))\n",
    "fig_pca.show()\n"
   ]
  },
  {
   "cell_type": "code",
   "execution_count": null,
   "metadata": {},
   "outputs": [],
   "source": []
  }
 ],
 "metadata": {
  "kernelspec": {
   "display_name": "comparison-embeddings-JDigj-vw-py3.12",
   "language": "python",
   "name": "python3"
  },
  "language_info": {
   "codemirror_mode": {
    "name": "ipython",
    "version": 3
   },
   "file_extension": ".py",
   "mimetype": "text/x-python",
   "name": "python",
   "nbconvert_exporter": "python",
   "pygments_lexer": "ipython3",
   "version": "3.12.4"
  }
 },
 "nbformat": 4,
 "nbformat_minor": 2
}
